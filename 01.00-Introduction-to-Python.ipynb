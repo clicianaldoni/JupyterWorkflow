{
 "cells": [
  {
   "cell_type": "markdown",
   "metadata": {},
   "source": [
    "# If and while statements"
   ]
  },
  {
   "cell_type": "markdown",
   "metadata": {},
   "source": [
    "Here is my studies from the video lectures from professor Ernazar Abdikamalov on Computational Physics with Python. The classes can be found [here](https://www.youtube.com/channel/UCUDGgVQS77knOXc2jgJxDIQ)."
   ]
  },
  {
   "cell_type": "markdown",
   "metadata": {},
   "source": [
    "**First Problem:** Program to ask through GUI coordenates to the user\n",
    "\n",
    "3D vector\n",
    "component is asked\n",
    "calculated the magnitude"
   ]
  },
  {
   "cell_type": "code",
   "execution_count": 1,
   "metadata": {},
   "outputs": [
    {
     "name": "stdout",
     "output_type": "stream",
     "text": [
      "Enter x component:3\n",
      "You entered  3.0\n",
      "Enter x component:3\n",
      "You entered  3.0\n",
      "Enter x component:3\n",
      "You entered  3.0\n",
      "The magnitude of the vector is 5.196152422706632\n"
     ]
    }
   ],
   "source": [
    "x=float(input(\"Enter x component:\"))\n",
    "print (\"You entered \",x)\n",
    "y=float(input(\"Enter x component:\"))\n",
    "print (\"You entered \",y)\n",
    "z=float(input(\"Enter x component:\"))\n",
    "print (\"You entered \",z)\n",
    "\n",
    "r=(x**2+y**2+z**2)**0.5\n",
    "print (\"The magnitude of the vector is\",r)"
   ]
  },
  {
   "cell_type": "markdown",
   "metadata": {},
   "source": [
    "Explanation: the \"float\" point number makes it possible to have decimals. It converts the input into a number. While the int point number makes it possible to have just whole numbers (integers). Int can be positive, negative and 0."
   ]
  },
  {
   "cell_type": "markdown",
   "metadata": {},
   "source": [
    "**Second Problem**: User gives the temperature of the water. The program will do different things depending on what we enter."
   ]
  },
  {
   "cell_type": "code",
   "execution_count": 3,
   "metadata": {},
   "outputs": [
    {
     "name": "stdout",
     "output_type": "stream",
     "text": [
      "Enter temperature 1\n",
      "Water is in liquid state\n"
     ]
    }
   ],
   "source": [
    "t=float(input(\"Enter temperature \"))\n",
    "\n",
    "if t>=100:\n",
    "    print(\"Water is in gas state\")\n",
    "elif t>=0 and t<100:\n",
    "    print(\"Water is in liquid state\")\n",
    "else:\n",
    "    print(\"Water is in solid state\")"
   ]
  },
  {
   "cell_type": "markdown",
   "metadata": {
    "collapsed": true
   },
   "source": [
    "**Third problem:** Info in the program which the user wants to get. The program asks a password. If the password is correct, gets info. If incorrect, it keep asking."
   ]
  },
  {
   "cell_type": "code",
   "execution_count": 4,
   "metadata": {},
   "outputs": [
    {
     "name": "stdout",
     "output_type": "stream",
     "text": [
      "Enter password: sjhdjshd\n",
      "Password is wrong.python\n",
      "Password is correct.\n"
     ]
    }
   ],
   "source": [
    "p=input(\"Enter password: \")\n",
    "password=\"python\"\n",
    "\n",
    "while p!=password:\n",
    "    p=input(\"Password is wrong. \")\n",
    "print(\"Password is correct.\")"
   ]
  },
  {
   "cell_type": "code",
   "execution_count": 1,
   "metadata": {},
   "outputs": [
    {
     "name": "stdout",
     "output_type": "stream",
     "text": [
      "Enter password: python\n",
      "Password is correct. The information is here. \n"
     ]
    }
   ],
   "source": [
    "p=input(\"Enter password: \")\n",
    "password=\"python\"\n",
    "imax=3\n",
    "i=1\n",
    "\n",
    "while p!=password:\n",
    "    i=i+1\n",
    "    p=input(\"Password is wrong. Enter again: \")\n",
    "    if i==imax:\n",
    "        break\n",
    "\n",
    "if i==imax:\n",
    "    print(\"You entered incorrect password\",imax,\"times\")\n",
    "else:\n",
    "    print(\"Password is correct. The information is here. \")\n"
   ]
  },
  {
   "cell_type": "markdown",
   "metadata": {},
   "source": [
    "# Use lists\n"
   ]
  },
  {
   "cell_type": "markdown",
   "metadata": {},
   "source": [
    "Declaring a list without elements."
   ]
  },
  {
   "cell_type": "code",
   "execution_count": 4,
   "metadata": {},
   "outputs": [
    {
     "name": "stdout",
     "output_type": "stream",
     "text": [
      "[]\n"
     ]
    }
   ],
   "source": [
    "number=[] \n",
    "print(number)"
   ]
  },
  {
   "cell_type": "code",
   "execution_count": 6,
   "metadata": {},
   "outputs": [
    {
     "name": "stdout",
     "output_type": "stream",
     "text": [
      "[3, 6, 3, 6, 123, 'students', 1, 34000000000000.0]\n"
     ]
    }
   ],
   "source": [
    "numbers2=[3,6,3,6,123,\"students\",1,34e12] #the list can have any type of element\n",
    "print(numbers2)"
   ]
  },
  {
   "cell_type": "code",
   "execution_count": 9,
   "metadata": {},
   "outputs": [
    {
     "name": "stdout",
     "output_type": "stream",
     "text": [
      "[3, 6, 3, 6, 123, 'students', 1, 34000000000000.0]\n",
      "[3, 6, 3, 6, 123, 'students', 1, 34000000000000.0, 'table']\n"
     ]
    }
   ],
   "source": [
    "numbers3=[3,6,3,6,123,\"students\",1,34e12]\n",
    "print(numbers3)\n",
    "numbers3.append(\"table\") #we can add or remove things from a list\n",
    "print(numbers3)"
   ]
  },
  {
   "cell_type": "code",
   "execution_count": 11,
   "metadata": {},
   "outputs": [
    {
     "name": "stdout",
     "output_type": "stream",
     "text": [
      "9\n"
     ]
    }
   ],
   "source": [
    "print(len(numbers3))"
   ]
  },
  {
   "cell_type": "markdown",
   "metadata": {},
   "source": [
    "**Forth problem:** How many students are in the class. Then the program asks the user the GPA of each student. Then it makes the average."
   ]
  },
  {
   "cell_type": "code",
   "execution_count": 13,
   "metadata": {},
   "outputs": [
    {
     "name": "stdout",
     "output_type": "stream",
     "text": [
      "Enter the number of students: 2\n",
      "Enter GPA: 2\n",
      "Enter GPA: 2\n",
      "Average GPA in the class is:  2.0\n"
     ]
    }
   ],
   "source": [
    "n=int(input(\"Enter the number of students: \"))\n",
    "gpa=[]\n",
    "i=0\n",
    "\n",
    "while i<n:\n",
    "    a=float(input(\"Enter GPA: \"))\n",
    "    gpa.append(a)\n",
    "    i=i+1 #to go to the next student\n",
    "    \n",
    "av=sum(gpa)/len(gpa)\n",
    "print(\"Average GPA in the class is: \", av)\n"
   ]
  },
  {
   "cell_type": "markdown",
   "metadata": {},
   "source": [
    "We will use now an array. The restriction is that we cannot add elements. The element should be in the same type.\n"
   ]
  },
  {
   "cell_type": "code",
   "execution_count": 24,
   "metadata": {},
   "outputs": [
    {
     "name": "stdout",
     "output_type": "stream",
     "text": [
      "Enter the number of students: 5\n",
      "Enter GPA: 1\n",
      "Enter GPA: 1\n",
      "Enter GPA: 2\n",
      "Enter GPA: 3\n",
      "Enter GPA: 6\n",
      "Average GPA in the class is:  2.6\n"
     ]
    }
   ],
   "source": [
    "from numpy import zeros\n",
    "#package numpy\n",
    "#just import zeros function\n",
    "#numpy array\n",
    "#zeros: declare an array of given size and type and assign zero to function\n",
    "\n",
    "\n",
    "n1=int(input(\"Enter the number of students: \"))\n",
    "gpa2=zeros(n1,float)\n",
    "#n1 how many elements, which type=float\n",
    "\n",
    "i=0\n",
    "while i<n1:\n",
    "    gpa2[i]=float(input(\"Enter GPA: \"))\n",
    "    i=i+1    \n",
    "av2=sum(gpa2)/len(gpa2)\n",
    "print(\"Average GPA in the class is: \", av2)"
   ]
  },
  {
   "cell_type": "code",
   "execution_count": 26,
   "metadata": {},
   "outputs": [
    {
     "name": "stdout",
     "output_type": "stream",
     "text": [
      "[ 1.  1.  2.  3.  6.]\n"
     ]
    }
   ],
   "source": [
    "print(gpa2)"
   ]
  },
  {
   "cell_type": "code",
   "execution_count": 29,
   "metadata": {},
   "outputs": [
    {
     "name": "stdout",
     "output_type": "stream",
     "text": [
      "3.0\n"
     ]
    }
   ],
   "source": [
    "print(gpa2[3])"
   ]
  }
 ],
 "metadata": {
  "kernelspec": {
   "display_name": "Python 3",
   "language": "python",
   "name": "python3"
  },
  "language_info": {
   "codemirror_mode": {
    "name": "ipython",
    "version": 3
   },
   "file_extension": ".py",
   "mimetype": "text/x-python",
   "name": "python",
   "nbconvert_exporter": "python",
   "pygments_lexer": "ipython3",
   "version": "3.6.3"
  }
 },
 "nbformat": 4,
 "nbformat_minor": 2
}
